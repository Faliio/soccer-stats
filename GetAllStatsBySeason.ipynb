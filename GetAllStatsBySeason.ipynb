{
 "cells": [
  {
   "cell_type": "code",
   "execution_count": 42,
   "id": "4240b033-1439-455e-acbe-351a2459b7a0",
   "metadata": {},
   "outputs": [],
   "source": [
    "#Import Libraries\n",
    "import pandas as pd\n",
    "import numpy as np\n",
    "import datetime\n",
    "import os\n",
    "\n",
    "######### SETTINGS #########\n",
    "\n",
    "#E0 is premiership ,I1 is Serie A, SP1 is Liga, D1 is Bundesliga, F1 is Ligue 1...\n",
    "division_list = ['E0','I1','SP1','D1','F1']\n",
    "\n",
    "#Season\n",
    "season = '2021' # 2021 = season 2020/2021, 1920 = season 2019/2020...\n",
    "\n",
    "#Custom team stats\n",
    "custom_HomeTeam = 'Bayern Munich'\n",
    "custom_AwayTeam = 'Dortmund'\n",
    "\n",
    "\n",
    "######### END SETTINGS #########"
   ]
  },
  {
   "cell_type": "code",
   "execution_count": null,
   "id": "001560a9-d8ae-4dce-830c-09903c9d5206",
   "metadata": {
    "tags": []
   },
   "outputs": [],
   "source": [
    "#Output columns\n",
    "output_columns = ['Div','Date','HomeTeam','AwayTeam','FTHG','FTAG','FTR','FTG','FTG-HTG','HTHG','HTAG','HTR','HTG','HS','AS','HST','AST','HF','AF','HC','AC','HY','AY','HR','AR']\n",
    "\n",
    "\n",
    "print('Start download data from football-data.co.uk')\n",
    "data = pd.DataFrame()\n",
    "\n",
    "for division in division_list:\n",
    "    #Create dataframe to store results\n",
    "    football_data_url = 'https://www.football-data.co.uk/mmz4281/'+season+'/'+division+'.csv'\n",
    "    print('downloading... '+football_data_url)\n",
    "    #Create list of columns, as some files have extra columns in rows that throw error\n",
    "    cols = (pd.read_csv(football_data_url, nrows=1)).columns.tolist()\n",
    "    #There are special characters in the file, so using encoding='latin1' below works\n",
    "    data_div = pd.read_csv(football_data_url, parse_dates=['Date'], dayfirst=True, usecols = cols,encoding='latin1')\n",
    "    data = pd.concat([data, data_div], axis=0, sort = False).reset_index(drop = True)\n",
    "    #Find empty columns\n",
    "    empty_cols = [col for col in data.columns if data[col].isnull().all()]\n",
    "    #Drop empty columns\n",
    "    data.drop(empty_cols, axis=1, inplace=True)\n",
    "    #Remove rows where date is empty\n",
    "    data = data[pd.notnull(data['Date'])]\n",
    "    #Reset Index\n",
    "    data = data.reset_index(drop=True)\n",
    "\n",
    "    \n",
    "print('End download data')\n",
    "\n",
    "print('Start preprocessing')\n",
    "#Sort data by date\n",
    "data.sort_values(by=['Date'], inplace=True)\n",
    "\n",
    "#Add new columns HTG, FTG, FTG-HTG\n",
    "data['HTG'] = data['HTHG'] + data['HTAG']\n",
    "data['FTG'] = data['FTHG'] + data['FTAG']\n",
    "data['FTG-HTG'] = data['FTG'] - data['HTG']\n",
    "\n",
    "#Filter columns\n",
    "data = data[output_columns]\n",
    "\n",
    "print('End preprocessing')\n",
    "\n"
   ]
  },
  {
   "cell_type": "code",
   "execution_count": 49,
   "id": "d4666dce-d5c7-4f90-bb61-7c006ec645d0",
   "metadata": {},
   "outputs": [
    {
     "name": "stdout",
     "output_type": "stream",
     "text": [
      "League stats\n"
     ]
    },
    {
     "data": {
      "text/plain": [
       "<AxesSubplot:xlabel='Div'>"
      ]
     },
     "execution_count": 49,
     "metadata": {},
     "output_type": "execute_result"
    },
    {
     "data": {
      "image/png": "[encoded data removed]",
      "text/plain": [
       "<Figure size 432x288 with 1 Axes>"
      ]
     },
     "metadata": {
      "needs_background": "light"
     },
     "output_type": "display_data"
    }
   ],
   "source": [
    "print('League stats')\n",
    "#Grouping by division\n",
    "dataLeagueGrouped = data.groupby(['Div']).mean()\n",
    "#Average Match Goals\n",
    "dataLeagueGrouped[['FTG','HTG','FTG-HTG']].plot(kind='bar', colormap='Paired')\n",
    "\n"
   ]
  },
  {
   "cell_type": "code",
   "execution_count": 38,
   "id": "726602a2-c4b6-495d-9350-de99fdd2b683",
   "metadata": {},
   "outputs": [
    {
     "data": {
      "text/plain": [
       "<AxesSubplot:xlabel='HomeTeam'>"
      ]
     },
     "execution_count": 38,
     "metadata": {},
     "output_type": "execute_result"
    },
    {
     "data": {
      "image/png": "[encoded data removed]",
      "text/plain": [
       "<Figure size 432x288 with 1 Axes>"
      ]
     },
     "metadata": {
      "needs_background": "light"
     },
     "output_type": "display_data"
    }
   ],
   "source": [
    "print('HomeTeam stats')\n",
    "\n",
    "#Grouping by HomeTeam\n",
    "dataHomeTeamGrouped = data.groupby(['HomeTeam']).mean()\n",
    "dataHomeTeamGrouped.sort_values(by=['FTHG'], inplace=True)\n",
    "dataHomeTeamGrouped = dataHomeTeamGrouped.tail(10)\n",
    "#Average Home Team Match Goals\n",
    "dataHomeTeamGrouped['FTHG'].plot(kind='bar', colormap='Paired')\n",
    "\n"
   ]
  },
  {
   "cell_type": "code",
   "execution_count": 41,
   "id": "09f6f65a-3c98-45a7-9c7a-eaea5b1a0227",
   "metadata": {},
   "outputs": [
    {
     "data": {
      "text/plain": [
       "<AxesSubplot:xlabel='AwayTeam'>"
      ]
     },
     "execution_count": 41,
     "metadata": {},
     "output_type": "execute_result"
    },
    {
     "data": {
      "image/png": "[encoded data removed]",
      "text/plain": [
       "<Figure size 432x288 with 1 Axes>"
      ]
     },
     "metadata": {
      "needs_background": "light"
     },
     "output_type": "display_data"
    }
   ],
   "source": [
    "print('AwayTeam stats')\n",
    "\n",
    "#Grouping by AwayTeam\n",
    "dataAwayTeamGrouped = data.groupby(['AwayTeam']).mean()\n",
    "dataAwayTeamGrouped.sort_values(by=['FTAG'], inplace=True)\n",
    "dataAwayTeamGrouped = dataAwayTeamGrouped.tail(10)\n",
    "#Average AwayTeam Match Goals\n",
    "dataAwayTeamGrouped['FTAG'].plot(kind='bar')\n",
    "\n"
   ]
  },
  {
   "cell_type": "code",
   "execution_count": 50,
   "id": "225c08f8-a3ce-438a-b420-6fab245cffb2",
   "metadata": {},
   "outputs": [
    {
     "name": "stdout",
     "output_type": "stream",
     "text": [
      "Average values HomeTeam: Bayern Munich\n",
      "                   FTHG      FTAG  FTG   FTG-HTG      HTHG      HTAG  \\\n",
      "HomeTeam                                                               \n",
      "Bayern Munich  3.764706  1.235294  5.0  2.588235  1.764706  0.647059   \n",
      "\n",
      "                    HTG         HS        AS       HST       AST        HF  \\\n",
      "HomeTeam                                                                     \n",
      "Bayern Munich  2.411765  18.882353  9.176471  8.058824  3.705882  8.588235   \n",
      "\n",
      "                      AF        HC        AC        HY        AY        HR  \\\n",
      "HomeTeam                                                                     \n",
      "Bayern Munich  11.705882  7.588235  2.588235  1.352941  1.235294  0.117647   \n",
      "\n",
      "                AR  \n",
      "HomeTeam            \n",
      "Bayern Munich  0.0  \n",
      "**************************\n",
      "Average values AwayTeam: Dortmund\n",
      "              FTHG      FTAG       FTG   FTG-HTG      HTHG      HTAG  \\\n",
      "AwayTeam                                                               \n",
      "Dortmund  1.529412  2.058824  3.588235  2.294118  0.647059  0.647059   \n",
      "\n",
      "               HTG         HS         AS       HST       AST         HF  \\\n",
      "AwayTeam                                                                  \n",
      "Dortmund  1.294118  11.647059  14.176471  4.176471  5.764706  10.117647   \n",
      "\n",
      "                 AF        HC        AC        HY        AY   HR        AR  \n",
      "AwayTeam                                                                    \n",
      "Dortmund  11.058824  4.352941  4.647059  1.705882  1.529412  0.0  0.058824  \n"
     ]
    }
   ],
   "source": [
    "#Analize custom HomeTeam vs AwayTeam\n",
    "\n",
    "dataHomeTeamGrouped = data.loc[(data.HomeTeam == custom_HomeTeam)].groupby(['HomeTeam']).mean()\n",
    "dataAwayTeamGrouped = data.loc[(data.AwayTeam == custom_AwayTeam)].groupby(['AwayTeam']).mean()\n",
    "\n",
    "print('Average values HomeTeam: ' + custom_HomeTeam)\n",
    "print(dataHomeTeamGrouped)\n",
    "print('**************************')\n",
    "print('Average values AwayTeam: ' + custom_AwayTeam)\n",
    "print(dataAwayTeamGrouped)\n"
   ]
  },
  {
   "cell_type": "code",
   "execution_count": null,
   "id": "3e06a8cd-4f78-46c8-a2aa-36fe889c6d05",
   "metadata": {},
   "outputs": [],
   "source": []
  }
 ],
 "metadata": {
  "kernelspec": {
   "display_name": "Python 3",
   "language": "python",
   "name": "python3"
  },
  "language_info": {
   "codemirror_mode": {
    "name": "ipython",
    "version": 3
   },
   "file_extension": ".py",
   "mimetype": "text/x-python",
   "name": "python",
   "nbconvert_exporter": "python",
   "pygments_lexer": "ipython3",
   "version": "3.8.8"
  },
  "metadata": {
   "interpreter": {
    "hash": "0adcc2737ebf6a4a119f135174df96668767fca1ef1112612db5ecadf2b6d608"
   }
  }
 },
 "nbformat": 4,
 "nbformat_minor": 5
}
